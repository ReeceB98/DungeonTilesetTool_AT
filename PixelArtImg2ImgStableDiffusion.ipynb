{
  "nbformat": 4,
  "nbformat_minor": 0,
  "metadata": {
    "colab": {
      "provenance": [],
      "gpuType": "T4",
      "authorship_tag": "ABX9TyMsJQGvZ9tyTrxwkCNIZ+Zb",
      "include_colab_link": true
    },
    "kernelspec": {
      "name": "python3",
      "display_name": "Python 3"
    },
    "language_info": {
      "name": "python"
    },
    "accelerator": "GPU"
  },
  "cells": [
    {
      "cell_type": "markdown",
      "metadata": {
        "id": "view-in-github",
        "colab_type": "text"
      },
      "source": [
        "<a href=\"https://colab.research.google.com/github/ReeceB98/DungeonTilesetTool_AT/blob/main/PixelArtImg2ImgStableDiffusion.ipynb\" target=\"_parent\"><img src=\"https://colab.research.google.com/assets/colab-badge.svg\" alt=\"Open In Colab\"/></a>"
      ]
    },
    {
      "cell_type": "markdown",
      "source": [
        "Installing Packages needed for Img2Img Generation."
      ],
      "metadata": {
        "id": "jasMfRMCKMIj"
      }
    },
    {
      "cell_type": "code",
      "execution_count": null,
      "metadata": {
        "id": "szaCKS42J4m4"
      },
      "outputs": [],
      "source": [
        "!pip install diffusers transformers accelerate torch peft"
      ]
    },
    {
      "cell_type": "markdown",
      "source": [
        "Mount the google drive to store generated images."
      ],
      "metadata": {
        "id": "mshkE2j2LHce"
      }
    },
    {
      "cell_type": "code",
      "source": [
        "from google.colab import drive\n",
        "drive.mount('/content/drive')"
      ],
      "metadata": {
        "id": "d6NZuHxbLDSS"
      },
      "execution_count": null,
      "outputs": []
    },
    {
      "cell_type": "markdown",
      "source": [
        "\n",
        "*   Set up the stable diffusion model.\n",
        "*   Set up the existing pixel art model needed."
      ],
      "metadata": {
        "id": "IyPh4A8HM8CW"
      }
    },
    {
      "cell_type": "code",
      "source": [
        "import torch\n",
        "from PIL import Image\n",
        "from diffusers import StableDiffusionXLImg2ImgPipeline\n",
        "\n",
        "model_id_or_path = \"stabilityai/stable-diffusion-xl-base-1.0\"\n",
        "pipe = StableDiffusionXLImg2ImgPipeline.from_pretrained(model_id_or_path, torch_dtype=torch.float16)\n",
        "pipe.load_lora_weights(\"nerijs/pixel-art-xl\")\n",
        "pipe = pipe.to(\"cuda\")"
      ],
      "metadata": {
        "id": "HKxaVMyfMx9S"
      },
      "execution_count": null,
      "outputs": []
    },
    {
      "cell_type": "code",
      "source": [
        "device = \"cuda\"\n",
        "starting_seed = 0;\n",
        "init_image = Image.open(\"/content/drive/MyDrive/ReferenceImages/brickwall.jpeg\").convert(\"RGB\").resize((768, 512))\n",
        "\n",
        "prompt = \"clean looking, bricks are same size, each brick has the same colour, smooth pixelation, keep white outline of bricks, high quality image\"\n",
        "np = \"doorway, holes, watermarks, random artifacts, pixelated artifacts, blurry, error\"\n",
        "\n",
        "for i in range(5):\n",
        "   generator = torch.Generator(device=device).manual_seed(starting_seed)\n",
        "   images = pipe(prompt=prompt, negative_prompt=np, image=init_image, strength=1, guidance_scale=1, num_inference_steps=100, generator=generator).images\n",
        "   images[0].save(f\"/content/drive/MyDrive/Img2ImgGenerated/GreyWall/Wall{starting_seed}.jpeg\")\n",
        "   starting_seed += 1"
      ],
      "metadata": {
        "id": "EJIMseCdQkT_"
      },
      "execution_count": null,
      "outputs": []
    }
  ]
}